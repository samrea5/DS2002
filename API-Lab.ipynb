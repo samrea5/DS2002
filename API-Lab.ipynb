{
 "cells": [
  {
   "cell_type": "markdown",
   "id": "c0b807b2-ae71-45e0-b197-e435e87370c4",
   "metadata": {},
   "source": [
    "Stock API project. THis project is an example of how to request certain information from an input and get back the correct up to date information from the internet using an api."
   ]
  },
  {
   "cell_type": "markdown",
   "id": "606a15ee-12ea-4dc2-ad11-196a21e70205",
   "metadata": {},
   "source": [
    "loading in the packages needed for code to run"
   ]
  },
  {
   "cell_type": "code",
   "execution_count": 20,
   "id": "bd22475d-848c-4536-b71f-d3554732730c",
   "metadata": {},
   "outputs": [],
   "source": [
    "import os\n",
    "import json\n",
    "import pprint\n",
    "import requests\n",
    "import requests.exceptions\n",
    "import pandas as pd"
   ]
  },
  {
   "cell_type": "markdown",
   "id": "045da217-52ee-4ee8-8fd5-d0003766cf4a",
   "metadata": {},
   "source": [
    "I initialized a dataframe so later i can save into it with the data from the API"
   ]
  },
  {
   "cell_type": "code",
   "execution_count": 56,
   "id": "628125ec-1498-47e9-a043-9a93874d9d0f",
   "metadata": {},
   "outputs": [],
   "source": [
    "columns=[\"stock\",\"company\",\"grossprofits\",\"targetmeanprice\",\"totalCash\"]\n",
    "df=pd.DataFrame(columns=columns)"
   ]
  },
  {
   "cell_type": "markdown",
   "id": "8b5ac7cd-a718-4d6b-837e-81a72558d438",
   "metadata": {},
   "source": [
    "This first set of code will gather the correct input for what the stock is."
   ]
  },
  {
   "cell_type": "code",
   "execution_count": 62,
   "id": "cd23b9c6-0be1-46aa-9d58-cfc209d89ecd",
   "metadata": {},
   "outputs": [
    {
     "name": "stdin",
     "output_type": "stream",
     "text": [
      " AApl\n"
     ]
    },
    {
     "name": "stdout",
     "output_type": "stream",
     "text": [
      "the stock that will be searched is AApl\n"
     ]
    }
   ],
   "source": [
    "stock=input()\n",
    "print(\"the stock that will be searched is \"+stock)"
   ]
  },
  {
   "cell_type": "markdown",
   "id": "7aa21f27-0c1c-42cc-b721-66b29df1abb9",
   "metadata": {},
   "source": [
    "Gathering the actual data from the yahoo stock website (name/current market value)"
   ]
  },
  {
   "cell_type": "code",
   "execution_count": 63,
   "id": "67a2f3a8-c153-490a-a7ab-4549c9e44160",
   "metadata": {},
   "outputs": [
    {
     "name": "stdout",
     "output_type": "stream",
     "text": [
      "{'quoteResponse': {'result': [{'language': 'en-US', 'region': 'US', 'quoteType': 'EQUITY', 'typeDisp': 'Equity', 'quoteSourceName': 'Nasdaq Real Time Price', 'triggerable': True, 'customPriceAlertConfidence': 'HIGH', 'currency': 'USD', 'firstTradeDateMilliseconds': 345479400000, 'tradeable': False, 'cryptoTradeable': False, 'regularMarketChangePercent': 0.73086417, 'regularMarketPrice': 173.66, 'askSize': 8, 'earningsTimestamp': 1691096400, 'earningsTimestampStart': 1698231540, 'earningsTimestampEnd': 1698667200, 'trailingAnnualDividendRate': 0.93, 'trailingPE': 29.08878, 'dividendRate': 0.96, 'trailingAnnualDividendYield': 0.0053944318, 'dividendYield': 0.56, 'epsTrailingTwelveMonths': 5.97, 'epsForward': 6.59, 'epsCurrentYear': 6.07, 'priceEpsCurrentYear': 28.609554, 'sharesOutstanding': 15634199552, 'bookValue': 3.852, 'fiftyDayAverage': 180.495, 'fiftyDayAverageChange': -6.8349915, 'fiftyDayAverageChangePercent': -0.037868038, 'twoHundredDayAverage': 166.5094, 'twoHundredDayAverageChange': 7.1506042, 'twoHundredDayAverageChangePercent': 0.04294415, 'marketCap': 2715035107328, 'forwardPE': 26.352049, 'priceToBook': 45.083076, 'sourceInterval': 15, 'exchangeDataDelayedBy': 0, 'averageAnalystRating': '2.0 - Buy', 'priceHint': 2, 'postMarketChangePercent': -0.18714553, 'postMarketTime': 1696455303, 'postMarketPrice': 173.335, 'postMarketChange': -0.32499695, 'regularMarketChange': 1.2600098, 'regularMarketTime': 1696449601, 'regularMarketDayHigh': 174.21, 'regularMarketDayRange': '170.98 - 174.21', 'regularMarketDayLow': 170.98, 'regularMarketVolume': 52902698, 'regularMarketPreviousClose': 172.4, 'bid': 173.51, 'ask': 173.54, 'bidSize': 8, 'fullExchangeName': 'NasdaqGS', 'financialCurrency': 'USD', 'regularMarketOpen': 171.09, 'averageDailyVolume3Month': 58221571, 'averageDailyVolume10Day': 56554790, 'fiftyTwoWeekLowChange': 49.490005, 'fiftyTwoWeekLowChangePercent': 0.39856654, 'fiftyTwoWeekRange': '124.17 - 198.23', 'fiftyTwoWeekHighChange': -24.569992, 'fiftyTwoWeekHighChangePercent': -0.12394689, 'fiftyTwoWeekLow': 124.17, 'fiftyTwoWeekHigh': 198.23, 'fiftyTwoWeekChangePercent': 17.759562, 'dividendDate': 1692230400, 'exchange': 'NMS', 'shortName': 'Apple Inc.', 'longName': 'Apple Inc.', 'messageBoardId': 'finmb_24937', 'exchangeTimezoneName': 'America/New_York', 'exchangeTimezoneShortName': 'EDT', 'gmtOffSetMilliseconds': -14400000, 'market': 'us_market', 'esgPopulated': False, 'marketState': 'POST', 'displayName': 'Apple', 'symbol': 'AAPL'}], 'error': None}}\n",
      "{'quoteSummary': {'result': [{'financialData': {'maxAge': 86400, 'currentPrice': {'raw': 173.66, 'fmt': '173.66'}, 'targetHighPrice': {'raw': 240.0, 'fmt': '240.00'}, 'targetLowPrice': {'raw': 149.0, 'fmt': '149.00'}, 'targetMeanPrice': {'raw': 199.56, 'fmt': '199.56'}, 'targetMedianPrice': {'raw': 200.0, 'fmt': '200.00'}, 'recommendationMean': {'raw': 2.0, 'fmt': '2.00'}, 'recommendationKey': 'buy', 'numberOfAnalystOpinions': {'raw': 36, 'fmt': '36', 'longFmt': '36'}, 'totalCash': {'raw': 62482001920, 'fmt': '62.48B', 'longFmt': '62,482,001,920'}, 'totalCashPerShare': {'raw': 3.996, 'fmt': '4'}, 'ebitda': {'raw': 123957002240, 'fmt': '123.96B', 'longFmt': '123,957,002,240'}, 'totalDebt': {'raw': 109280002048, 'fmt': '109.28B', 'longFmt': '109,280,002,048'}, 'quickRatio': {'raw': 0.814, 'fmt': '0.81'}, 'currentRatio': {'raw': 0.982, 'fmt': '0.98'}, 'totalRevenue': {'raw': 383932989440, 'fmt': '383.93B', 'longFmt': '383,932,989,440'}, 'debtToEquity': {'raw': 181.305, 'fmt': '181.30%'}, 'revenuePerShare': {'raw': 24.22, 'fmt': '24.22'}, 'returnOnAssets': {'raw': 0.20896, 'fmt': '20.90%'}, 'returnOnEquity': {'raw': 1.60093, 'fmt': '160.09%'}, 'grossProfits': {'raw': 170782000000, 'fmt': '170.78B', 'longFmt': '170,782,000,000'}, 'freeCashflow': {'raw': 90680500224, 'fmt': '90.68B', 'longFmt': '90,680,500,224'}, 'operatingCashflow': {'raw': 113071996928, 'fmt': '113.07B', 'longFmt': '113,071,996,928'}, 'earningsGrowth': {'raw': 0.05, 'fmt': '5.00%'}, 'revenueGrowth': {'raw': -0.014, 'fmt': '-1.40%'}, 'grossMargins': {'raw': 0.43449003, 'fmt': '43.45%'}, 'ebitdaMargins': {'raw': 0.32286, 'fmt': '32.29%'}, 'operatingMargins': {'raw': 0.29231, 'fmt': '29.23%'}, 'profitMargins': {'raw': 0.24681, 'fmt': '24.68%'}, 'financialCurrency': 'USD'}}], 'error': None}}\n"
     ]
    }
   ],
   "source": [
    "apikey=\"PuqJJfHhka7iEndrhyl7Gex9pGwUyA2lJFMx6E90\"\n",
    "url=\"https://yfapi.net/v6/finance/quote\"\n",
    "querystr={\"symbols\":stock,\"region\":\"US\",\"lang\":\"en\"}\n",
    "headers={'x-api-key':apikey}\n",
    "response= requests.request(\"GET\",url,headers=headers,params=querystr)\n",
    "stock_json=response.json()\n",
    "if ( \"quoteResponse\" in stock_json\n",
    "        and \"result\" in stock_json[\"quoteResponse\"]\n",
    "        and stock_json[\"quoteResponse\"][\"result\"][0].get(\"triggerable\") == False\n",
    "    ):\n",
    "        print(\"error stock ticker or information does not exist\")\n",
    "else:\n",
    "        print(stock_json)\n",
    "\n",
    "\n",
    "apikey=\"PuqJJfHhka7iEndrhyl7Gex9pGwUyA2lJFMx6E90\"\n",
    "url2=\"https://yfapi.net/v11/finance/quoteSummary/\"+stock\n",
    "querystr2={\"region\":\"US\",\"lang\":\"en\",\"modules\":\"financialData\"}\n",
    "headers={'x-api-key':apikey}\n",
    "response2= requests.request(\"GET\",url2,headers=headers,params=querystr2)\n",
    "stock_json2=response2.json()\n",
    "if ( \"quoteResponse\" in stock_json2\n",
    "        and \"result\" in stock_json2[\"quoteResponse\"]\n",
    "        and stock_json2[\"quoteResponse\"][\"result\"][0].get(\"triggerable\") == False\n",
    "    ):\n",
    "        print(\"error stock ticker or information does not exist\")\n",
    "else:\n",
    "        print(stock_json2) "
   ]
  },
  {
   "cell_type": "markdown",
   "id": "b2576ae7-9d5a-4d53-93aa-da91842955b2",
   "metadata": {},
   "source": [
    "Creating variables so i can output the desired information"
   ]
  },
  {
   "cell_type": "code",
   "execution_count": 64,
   "id": "aef11756-fe94-4779-9617-ea4c8d656e81",
   "metadata": {},
   "outputs": [
    {
     "name": "stdout",
     "output_type": "stream",
     "text": [
      "Stock: AApl Company: Apple Inc. Price: 173.66 Gross Profits: 170.78B Target Mean Price 199.56 Total Cash: 62.48B\n"
     ]
    }
   ],
   "source": [
    "name=str(stock_json[\"quoteResponse\"]['result'][0][\"longName\"])\n",
    "price=str(stock_json['quoteResponse']['result'][0]['regularMarketPrice'])\n",
    "grossprofits=str(stock_json2[\"quoteSummary\"]['result'][0]['financialData']['grossProfits']['fmt'])\n",
    "targetmeanprice=str(stock_json2[\"quoteSummary\"]['result'][0]['financialData']['targetMeanPrice']['fmt'])\n",
    "totalcash=str(stock_json2[\"quoteSummary\"]['result'][0]['financialData']['totalCash']['fmt'])\n",
    "print(\"Stock: \"+str(stock)+\" Company: \"+str(name)+\" Price: \"+str(price)+' Gross Profits: '+str(grossprofits)+' Target Mean Price '+str(targetmeanprice)+' Total Cash: '+totalcash)"
   ]
  },
  {
   "cell_type": "markdown",
   "id": "f32acc47-3bdb-41ff-8e17-f1f2d9e715bf",
   "metadata": {},
   "source": [
    "Creating dictionary so i can make a dataframe using pandas"
   ]
  },
  {
   "cell_type": "code",
   "execution_count": 65,
   "id": "664d13c3-5a6f-4b48-8fe7-1eeb22010abe",
   "metadata": {},
   "outputs": [
    {
     "name": "stdout",
     "output_type": "stream",
     "text": [
      "{'stock': 'AApl', 'company': '173.66', 'grossprofits': '170.78B', 'targetmeanprice': '199.56', 'totalCash': '62.48B'}\n"
     ]
    }
   ],
   "source": [
    "dict={\"stock\":stock,\"company\":price,\"grossprofits\":grossprofits,\"targetmeanprice\":targetmeanprice, \"totalCash\":totalcash}\n",
    "print(dict)"
   ]
  },
  {
   "cell_type": "code",
   "execution_count": 67,
   "id": "2a3f3a04-c40e-4c68-9e8b-bd0eee55c137",
   "metadata": {},
   "outputs": [
    {
     "name": "stdout",
     "output_type": "stream",
     "text": [
      "  stock company grossprofits targetmeanprice totalCash\n",
      "0  ORCL  107.08       36.39B          131.16    12.08B\n",
      "1  AApl  173.66      170.78B          199.56    62.48B\n",
      "2  AApl  173.66      170.78B          199.56    62.48B\n"
     ]
    },
    {
     "name": "stderr",
     "output_type": "stream",
     "text": [
      "C:\\Users\\DS2002\\AppData\\Local\\Temp\\2\\ipykernel_7560\\4267148899.py:1: FutureWarning: The frame.append method is deprecated and will be removed from pandas in a future version. Use pandas.concat instead.\n",
      "  df = df.append(dict, ignore_index=True)\n"
     ]
    }
   ],
   "source": [
    "df = df.append(dict, ignore_index=True)\n",
    "print(df)"
   ]
  },
  {
   "cell_type": "markdown",
   "id": "5e6cd218-fd87-471a-8aab-ebf4438bc6ac",
   "metadata": {},
   "source": [
    "Converting my data frame to json and csv file so they can be used and saved"
   ]
  },
  {
   "cell_type": "code",
   "execution_count": 68,
   "id": "717a1637-b052-4bc6-8264-c7a3d2e6aad6",
   "metadata": {},
   "outputs": [],
   "source": [
    "df.to_json('stock.json', orient='records')\n",
    "df.to_csv('stock.csv', index=False)"
   ]
  },
  {
   "cell_type": "markdown",
   "id": "ff61f1e8-b80a-4bb8-baa8-06ee081d34ed",
   "metadata": {},
   "source": [
    "Reflection Questions\n",
    "\n",
    "A. THere is an API key and people who do not have access to that specific key cannot pulldata using this code. \n",
    "\n",
    "B. The only error i really encountered was the data frame then i realized i would initialize the dataframe every time instead of just once at the start of the code \n",
    "\n",
    "C. My Biggest resources are stackoverflow, the questions page on the discord also provided some insight to an error i was having."
   ]
  }
 ],
 "metadata": {
  "kernelspec": {
   "display_name": "Python 3 (ipykernel)",
   "language": "python",
   "name": "python3"
  },
  "language_info": {
   "codemirror_mode": {
    "name": "ipython",
    "version": 3
   },
   "file_extension": ".py",
   "mimetype": "text/x-python",
   "name": "python",
   "nbconvert_exporter": "python",
   "pygments_lexer": "ipython3",
   "version": "3.8.16"
  }
 },
 "nbformat": 4,
 "nbformat_minor": 5
}

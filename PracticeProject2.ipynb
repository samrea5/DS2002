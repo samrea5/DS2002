{
 "cells": [
  {
   "cell_type": "code",
   "execution_count": null,
   "id": "6072b38a-eafa-40aa-9cd2-58901ba8088e",
   "metadata": {},
   "outputs": [
    {
     "name": "stdout",
     "output_type": "stream",
     "text": [
      "Requirement already satisfied: asyncio in c:\\miniconda\\envs\\py38_default\\lib\\site-packages (3.4.3)\n",
      "Requirement already satisfied: nest_asyncio in c:\\miniconda\\envs\\py38_default\\lib\\site-packages (1.5.6)\n"
     ]
    },
    {
     "name": "stdin",
     "output_type": "stream",
     "text": [
      "Enter stock ticker:  Aapl\n"
     ]
    },
    {
     "name": "stdout",
     "output_type": "stream",
     "text": [
      "The stock that will be searched is Aapl\n",
      "{'quoteResponse': {'result': [{'language': 'en-US', 'region': 'US', 'quoteType': 'EQUITY', 'triggerable': True, 'quoteSourceName': 'Nasdaq Real Time Price', 'market': 'us_market', 'regularMarketChangePercent': -0.33864066, 'regularMarketDayRange': '192.205 - 194.76', 'regularMarketPreviousClose': 193.42, 'bid': 192.81, 'ask': 192.83, 'bidSize': 8, 'askSize': 8, 'messageBoardId': 'finmb_24937', 'currency': 'USD', 'trailingAnnualDividendYield': 0.0048598903, 'epsTrailingTwelveMonths': 6.13, 'epsForward': 7.15, 'epsCurrentYear': 6.56, 'priceEpsCurrentYear': 29.384909, 'sharesOutstanding': 15552799744, 'bookValue': 3.997, 'fiftyDayAverage': 180.0912, 'fiftyDayAverageChange': 12.673798, 'fiftyDayAverageChangePercent': 0.07037433, 'twoHundredDayAverage': 175.6501, 'twoHundredDayAverageChange': 17.114899, 'twoHundredDayAverageChangePercent': 0.097437456, 'marketCap': 2998035546112, 'forwardPE': 26.96014, 'priceToBook': 48.22742, 'sourceInterval': 15, 'exchangeTimezoneName': 'America/New_York', 'exchangeTimezoneShortName': 'EST', 'gmtOffSetMilliseconds': -18000000, 'priceHint': 2, 'fullExchangeName': 'NasdaqGS', 'longName': 'Apple Inc.', 'financialCurrency': 'USD', 'averageDailyVolume3Month': 57024831, 'averageDailyVolume10Day': 42801760, 'fiftyTwoWeekLowChange': 68.595, 'fiftyTwoWeekLowChangePercent': 0.5524281, 'fiftyTwoWeekRange': '124.17 - 198.23', 'fiftyTwoWeekHighChange': -5.4649963, 'fiftyTwoWeekHighChangePercent': -0.027568968, 'fiftyTwoWeekLow': 124.17, 'fiftyTwoWeekHigh': 198.23, 'dividendDate': 1700092800, 'earningsTimestamp': 1698958800, 'earningsTimestampStart': 1706698740, 'earningsTimestampEnd': 1707134400, 'trailingAnnualDividendRate': 0.94, 'trailingPE': 31.446165, 'marketState': 'REGULAR', 'exchange': 'NMS', 'shortName': 'Apple Inc.', 'regularMarketPrice': 192.765, 'regularMarketTime': 1701888199, 'regularMarketChange': -0.6549988, 'regularMarketOpen': 194.45, 'regularMarketDayHigh': 194.76, 'regularMarketDayLow': 192.205, 'regularMarketVolume': 22802242, 'esgPopulated': False, 'tradeable': False, 'exchangeDataDelayedBy': 0, 'symbol': 'AAPL'}], 'error': None}}\n",
      "{'quoteSummary': {'result': [{'financialData': {'maxAge': 86400, 'currentPrice': {'raw': 192.76, 'fmt': '192.76'}, 'targetHighPrice': {'raw': 240.0, 'fmt': '240.00'}, 'targetLowPrice': {'raw': 159.0, 'fmt': '159.00'}, 'targetMeanPrice': {'raw': 198.01, 'fmt': '198.01'}, 'targetMedianPrice': {'raw': 200.0, 'fmt': '200.00'}, 'recommendationMean': {'raw': 2.1, 'fmt': '2.10'}, 'recommendationKey': 'buy', 'numberOfAnalystOpinions': {'raw': 39, 'fmt': '39', 'longFmt': '39'}, 'totalCash': {'raw': 61554999296, 'fmt': '61.55B', 'longFmt': '61,554,999,296'}, 'totalCashPerShare': {'raw': 3.958, 'fmt': '3.96'}, 'ebitda': {'raw': 125820002304, 'fmt': '125.82B', 'longFmt': '125,820,002,304'}, 'totalDebt': {'raw': 123930001408, 'fmt': '123.93B', 'longFmt': '123,930,001,408'}, 'quickRatio': {'raw': 0.843, 'fmt': '0.84'}, 'currentRatio': {'raw': 0.988, 'fmt': '0.99'}, 'totalRevenue': {'raw': 383285002240, 'fmt': '383.29B', 'longFmt': '383,285,002,240'}, 'debtToEquity': {'raw': 199.418, 'fmt': '199.42%'}, 'revenuePerShare': {'raw': 24.344, 'fmt': '24.34'}, 'returnOnAssets': {'raw': 0.20256001, 'fmt': '20.26%'}, 'returnOnEquity': {'raw': 1.7195, 'fmt': '171.95%'}, 'grossProfits': {'raw': 170782000000, 'fmt': '170.78B', 'longFmt': '170,782,000,000'}, 'freeCashflow': {'raw': 82179997696, 'fmt': '82.18B', 'longFmt': '82,179,997,696'}, 'operatingCashflow': {'raw': 110543003648, 'fmt': '110.54B', 'longFmt': '110,543,003,648'}, 'earningsGrowth': {'raw': 0.135, 'fmt': '13.50%'}, 'revenueGrowth': {'raw': -0.007, 'fmt': '-0.70%'}, 'grossMargins': {'raw': 0.44131002, 'fmt': '44.13%'}, 'ebitdaMargins': {'raw': 0.32827, 'fmt': '32.83%'}, 'operatingMargins': {'raw': 0.30134, 'fmt': '30.13%'}, 'profitMargins': {'raw': 0.25305998, 'fmt': '25.31%'}, 'financialCurrency': 'USD'}}], 'error': None}}\n",
      "Stock: Aapl Company: Apple Inc. Price: 192.765 Gross Profits: 170.78B Target Mean Price 198.01 Total Cash: 61.55B\n",
      "Waiting for 60 seconds...\n",
      "60 seconds have passed. Now executing the code.\n",
      "{'quoteResponse': {'result': [{'language': 'en-US', 'region': 'US', 'quoteType': 'EQUITY', 'triggerable': True, 'quoteSourceName': 'Nasdaq Real Time Price', 'messageBoardId': 'finmb_24937', 'fullExchangeName': 'NasdaqGS', 'longName': 'Apple Inc.', 'financialCurrency': 'USD', 'averageDailyVolume3Month': 57024831, 'averageDailyVolume10Day': 42801760, 'fiftyTwoWeekLowChange': 68.65001, 'fiftyTwoWeekLowChangePercent': 0.55287117, 'fiftyTwoWeekRange': '124.17 - 198.23', 'fiftyTwoWeekHighChange': -5.4099884, 'fiftyTwoWeekHighChangePercent': -0.027291473, 'dividendDate': 1700092800, 'currency': 'USD', 'exchange': 'NMS', 'shortName': 'Apple Inc.', 'epsTrailingTwelveMonths': 6.13, 'epsForward': 7.15, 'epsCurrentYear': 6.56, 'priceHint': 2, 'market': 'us_market', 'regularMarketChangePercent': -0.31020105, 'regularMarketDayRange': '192.205 - 194.76', 'regularMarketPreviousClose': 193.42, 'bid': 192.83, 'ask': 192.84, 'bidSize': 8, 'askSize': 8, 'marketCap': 2998890921984, 'forwardPE': 26.967833, 'priceToBook': 48.241184, 'sourceInterval': 15, 'exchangeTimezoneName': 'America/New_York', 'exchangeTimezoneShortName': 'EST', 'gmtOffSetMilliseconds': -18000000, 'priceEpsCurrentYear': 29.393293, 'sharesOutstanding': 15552799744, 'bookValue': 3.997, 'fiftyDayAverage': 180.0912, 'fiftyDayAverageChange': 12.728806, 'fiftyDayAverageChangePercent': 0.07067978, 'twoHundredDayAverage': 175.6501, 'twoHundredDayAverageChange': 17.169907, 'twoHundredDayAverageChangePercent': 0.09775062, 'regularMarketPrice': 192.82, 'regularMarketTime': 1701888260, 'regularMarketChange': -0.59999084, 'regularMarketOpen': 194.45, 'esgPopulated': False, 'tradeable': False, 'regularMarketDayHigh': 194.76, 'regularMarketDayLow': 192.205, 'regularMarketVolume': 22841751, 'fiftyTwoWeekLow': 124.17, 'fiftyTwoWeekHigh': 198.23, 'earningsTimestamp': 1698958800, 'earningsTimestampStart': 1706698740, 'earningsTimestampEnd': 1707134400, 'trailingAnnualDividendRate': 0.94, 'trailingPE': 31.45514, 'trailingAnnualDividendYield': 0.0048598903, 'exchangeDataDelayedBy': 0, 'marketState': 'REGULAR', 'symbol': 'AAPL'}], 'error': None}}\n",
      "{'quoteSummary': {'result': [{'financialData': {'maxAge': 86400, 'currentPrice': {'raw': 192.81, 'fmt': '192.81'}, 'targetHighPrice': {'raw': 240.0, 'fmt': '240.00'}, 'targetLowPrice': {'raw': 159.0, 'fmt': '159.00'}, 'targetMeanPrice': {'raw': 198.01, 'fmt': '198.01'}, 'targetMedianPrice': {'raw': 200.0, 'fmt': '200.00'}, 'recommendationMean': {'raw': 2.1, 'fmt': '2.10'}, 'recommendationKey': 'buy', 'numberOfAnalystOpinions': {'raw': 39, 'fmt': '39', 'longFmt': '39'}, 'totalCash': {'raw': 61554999296, 'fmt': '61.55B', 'longFmt': '61,554,999,296'}, 'totalCashPerShare': {'raw': 3.958, 'fmt': '3.96'}, 'ebitda': {'raw': 125820002304, 'fmt': '125.82B', 'longFmt': '125,820,002,304'}, 'totalDebt': {'raw': 123930001408, 'fmt': '123.93B', 'longFmt': '123,930,001,408'}, 'quickRatio': {'raw': 0.843, 'fmt': '0.84'}, 'currentRatio': {'raw': 0.988, 'fmt': '0.99'}, 'totalRevenue': {'raw': 383285002240, 'fmt': '383.29B', 'longFmt': '383,285,002,240'}, 'debtToEquity': {'raw': 199.418, 'fmt': '199.42%'}, 'revenuePerShare': {'raw': 24.344, 'fmt': '24.34'}, 'returnOnAssets': {'raw': 0.20256001, 'fmt': '20.26%'}, 'returnOnEquity': {'raw': 1.7195, 'fmt': '171.95%'}, 'grossProfits': {'raw': 170782000000, 'fmt': '170.78B', 'longFmt': '170,782,000,000'}, 'freeCashflow': {'raw': 82179997696, 'fmt': '82.18B', 'longFmt': '82,179,997,696'}, 'operatingCashflow': {'raw': 110543003648, 'fmt': '110.54B', 'longFmt': '110,543,003,648'}, 'earningsGrowth': {'raw': 0.135, 'fmt': '13.50%'}, 'revenueGrowth': {'raw': -0.007, 'fmt': '-0.70%'}, 'grossMargins': {'raw': 0.44131002, 'fmt': '44.13%'}, 'ebitdaMargins': {'raw': 0.32827, 'fmt': '32.83%'}, 'operatingMargins': {'raw': 0.30134, 'fmt': '30.13%'}, 'profitMargins': {'raw': 0.25305998, 'fmt': '25.31%'}, 'financialCurrency': 'USD'}}], 'error': None}}\n",
      "Stock: Aapl Company: Apple Inc. Price: 192.82 Gross Profits: 170.78B Target Mean Price 198.01 Total Cash: 61.55B\n",
      "Waiting for 60 seconds...\n",
      "60 seconds have passed. Now executing the code.\n",
      "{'quoteResponse': {'result': [{'language': 'en-US', 'region': 'US', 'quoteType': 'EQUITY', 'triggerable': True, 'quoteSourceName': 'Nasdaq Real Time Price', 'fiftyTwoWeekLowChange': 68.759995, 'epsTrailingTwelveMonths': 6.13, 'epsForward': 7.15, 'epsCurrentYear': 6.56, 'exchange': 'NMS', 'currency': 'USD', 'shortName': 'Apple Inc.', 'earningsTimestampStart': 1706698740, 'earningsTimestampEnd': 1707134400, 'trailingAnnualDividendRate': 0.94, 'trailingPE': 31.473082, 'bookValue': 3.997, 'fiftyDayAverage': 180.0912, 'fiftyDayAverageChange': 12.838791, 'fiftyDayAverageChangePercent': 0.07129049, 'marketCap': 3000601411584, 'twoHundredDayAverage': 175.6501, 'twoHundredDayAverageChange': 17.279892, 'twoHundredDayAverageChangePercent': 0.09837678, 'esgPopulated': False, 'tradeable': False, 'priceHint': 2, 'regularMarketPreviousClose': 193.42, 'bid': 192.91, 'ask': 192.91, 'bidSize': 8, 'askSize': 8, 'messageBoardId': 'finmb_24937', 'forwardPE': 26.983215, 'priceToBook': 48.2687, 'sourceInterval': 15, 'exchangeTimezoneName': 'America/New_York', 'exchangeTimezoneShortName': 'EST', 'priceEpsCurrentYear': 29.41006, 'sharesOutstanding': 15552799744, 'fiftyTwoWeekLowChangePercent': 0.5537569, 'fiftyTwoWeekRange': '124.17 - 198.23', 'fiftyTwoWeekHighChange': -5.300003, 'fiftyTwoWeekHighChangePercent': -0.026736636, 'trailingAnnualDividendYield': 0.0048598903, 'regularMarketChangePercent': -0.25333756, 'regularMarketDayRange': '192.205 - 194.76', 'fullExchangeName': 'NasdaqGS', 'longName': 'Apple Inc.', 'financialCurrency': 'USD', 'averageDailyVolume3Month': 57024831, 'averageDailyVolume10Day': 42801760, 'market': 'us_market', 'gmtOffSetMilliseconds': -18000000, 'exchangeDataDelayedBy': 0, 'fiftyTwoWeekLow': 124.17, 'fiftyTwoWeekHigh': 198.23, 'dividendDate': 1700092800, 'earningsTimestamp': 1698958800, 'marketState': 'REGULAR', 'regularMarketPrice': 192.93, 'regularMarketTime': 1701888321, 'regularMarketChange': -0.4900055, 'regularMarketOpen': 194.45, 'regularMarketDayHigh': 194.76, 'regularMarketDayLow': 192.205, 'regularMarketVolume': 22896545, 'symbol': 'AAPL'}], 'error': None}}\n",
      "{'quoteSummary': {'result': [{'financialData': {'maxAge': 86400, 'currentPrice': {'raw': 192.935, 'fmt': '192.93'}, 'targetHighPrice': {'raw': 240.0, 'fmt': '240.00'}, 'targetLowPrice': {'raw': 159.0, 'fmt': '159.00'}, 'targetMeanPrice': {'raw': 198.01, 'fmt': '198.01'}, 'targetMedianPrice': {'raw': 200.0, 'fmt': '200.00'}, 'recommendationMean': {'raw': 2.1, 'fmt': '2.10'}, 'recommendationKey': 'buy', 'numberOfAnalystOpinions': {'raw': 39, 'fmt': '39', 'longFmt': '39'}, 'totalCash': {'raw': 61554999296, 'fmt': '61.55B', 'longFmt': '61,554,999,296'}, 'totalCashPerShare': {'raw': 3.958, 'fmt': '3.96'}, 'ebitda': {'raw': 125820002304, 'fmt': '125.82B', 'longFmt': '125,820,002,304'}, 'totalDebt': {'raw': 123930001408, 'fmt': '123.93B', 'longFmt': '123,930,001,408'}, 'quickRatio': {'raw': 0.843, 'fmt': '0.84'}, 'currentRatio': {'raw': 0.988, 'fmt': '0.99'}, 'totalRevenue': {'raw': 383285002240, 'fmt': '383.29B', 'longFmt': '383,285,002,240'}, 'debtToEquity': {'raw': 199.418, 'fmt': '199.42%'}, 'revenuePerShare': {'raw': 24.344, 'fmt': '24.34'}, 'returnOnAssets': {'raw': 0.20256001, 'fmt': '20.26%'}, 'returnOnEquity': {'raw': 1.7195, 'fmt': '171.95%'}, 'grossProfits': {'raw': 170782000000, 'fmt': '170.78B', 'longFmt': '170,782,000,000'}, 'freeCashflow': {'raw': 82179997696, 'fmt': '82.18B', 'longFmt': '82,179,997,696'}, 'operatingCashflow': {'raw': 110543003648, 'fmt': '110.54B', 'longFmt': '110,543,003,648'}, 'earningsGrowth': {'raw': 0.135, 'fmt': '13.50%'}, 'revenueGrowth': {'raw': -0.007, 'fmt': '-0.70%'}, 'grossMargins': {'raw': 0.44131002, 'fmt': '44.13%'}, 'ebitdaMargins': {'raw': 0.32827, 'fmt': '32.83%'}, 'operatingMargins': {'raw': 0.30134, 'fmt': '30.13%'}, 'profitMargins': {'raw': 0.25305998, 'fmt': '25.31%'}, 'financialCurrency': 'USD'}}], 'error': None}}\n",
      "Stock: Aapl Company: Apple Inc. Price: 192.93 Gross Profits: 170.78B Target Mean Price 198.01 Total Cash: 61.55B\n",
      "Waiting for 60 seconds...\n",
      "60 seconds have passed. Now executing the code.\n",
      "{'quoteResponse': {'result': [{'language': 'en-US', 'region': 'US', 'quoteType': 'EQUITY', 'triggerable': True, 'quoteSourceName': 'Nasdaq Real Time Price', 'currency': 'USD', 'fullExchangeName': 'NasdaqGS', 'longName': 'Apple Inc.', 'financialCurrency': 'USD', 'averageDailyVolume3Month': 57024831, 'averageDailyVolume10Day': 42801760, 'fiftyTwoWeekLowChange': 68.79111, 'fiftyTwoWeekLowChangePercent': 0.5540075, 'fiftyTwoWeekRange': '124.17 - 198.23', 'fiftyTwoWeekHighChange': -5.2688904, 'fiftyTwoWeekHighChangePercent': -0.026579682, 'fiftyTwoWeekLow': 124.17, 'fiftyTwoWeekHigh': 198.23, 'dividendDate': 1700092800, 'bookValue': 3.997, 'fiftyDayAverage': 180.0912, 'fiftyDayAverageChange': 12.869904, 'fiftyDayAverageChangePercent': 0.07146326, 'twoHundredDayAverage': 175.6501, 'twoHundredDayAverageChange': 17.311005, 'twoHundredDayAverageChangePercent': 0.09855391, 'marketCap': 3001085329408, 'forwardPE': 26.987566, 'priceToBook': 48.276485, 'sourceInterval': 15, 'exchangeTimezoneName': 'America/New_York', 'exchangeTimezoneShortName': 'EST', 'exchangeDataDelayedBy': 0, 'market': 'us_market', 'shortName': 'Apple Inc.', 'regularMarketChangePercent': -0.237252, 'regularMarketDayRange': '192.205 - 194.76', 'regularMarketPreviousClose': 193.42, 'bid': 192.85, 'ask': 192.86, 'bidSize': 13, 'askSize': 8, 'messageBoardId': 'finmb_24937', 'marketState': 'REGULAR', 'earningsTimestamp': 1698958800, 'earningsTimestampStart': 1706698740, 'earningsTimestampEnd': 1707134400, 'trailingAnnualDividendRate': 0.94, 'trailingPE': 31.478157, 'trailingAnnualDividendYield': 0.0048598903, 'epsTrailingTwelveMonths': 6.13, 'epsForward': 7.15, 'epsCurrentYear': 6.56, 'priceEpsCurrentYear': 29.414803, 'sharesOutstanding': 15552799744, 'esgPopulated': False, 'tradeable': False, 'gmtOffSetMilliseconds': -18000000, 'priceHint': 2, 'exchange': 'NMS', 'regularMarketPrice': 192.9611, 'regularMarketTime': 1701888380, 'regularMarketChange': -0.45889282, 'regularMarketOpen': 194.45, 'regularMarketDayHigh': 194.76, 'regularMarketDayLow': 192.205, 'regularMarketVolume': 22949531, 'symbol': 'AAPL'}], 'error': None}}\n",
      "{'quoteSummary': {'result': [{'financialData': {'maxAge': 86400, 'currentPrice': {'raw': 192.97, 'fmt': '192.97'}, 'targetHighPrice': {'raw': 240.0, 'fmt': '240.00'}, 'targetLowPrice': {'raw': 159.0, 'fmt': '159.00'}, 'targetMeanPrice': {'raw': 198.01, 'fmt': '198.01'}, 'targetMedianPrice': {'raw': 200.0, 'fmt': '200.00'}, 'recommendationMean': {'raw': 2.1, 'fmt': '2.10'}, 'recommendationKey': 'buy', 'numberOfAnalystOpinions': {'raw': 39, 'fmt': '39', 'longFmt': '39'}, 'totalCash': {'raw': 61554999296, 'fmt': '61.55B', 'longFmt': '61,554,999,296'}, 'totalCashPerShare': {'raw': 3.958, 'fmt': '3.96'}, 'ebitda': {'raw': 125820002304, 'fmt': '125.82B', 'longFmt': '125,820,002,304'}, 'totalDebt': {'raw': 123930001408, 'fmt': '123.93B', 'longFmt': '123,930,001,408'}, 'quickRatio': {'raw': 0.843, 'fmt': '0.84'}, 'currentRatio': {'raw': 0.988, 'fmt': '0.99'}, 'totalRevenue': {'raw': 383285002240, 'fmt': '383.29B', 'longFmt': '383,285,002,240'}, 'debtToEquity': {'raw': 199.418, 'fmt': '199.42%'}, 'revenuePerShare': {'raw': 24.344, 'fmt': '24.34'}, 'returnOnAssets': {'raw': 0.20256001, 'fmt': '20.26%'}, 'returnOnEquity': {'raw': 1.7195, 'fmt': '171.95%'}, 'grossProfits': {'raw': 170782000000, 'fmt': '170.78B', 'longFmt': '170,782,000,000'}, 'freeCashflow': {'raw': 82179997696, 'fmt': '82.18B', 'longFmt': '82,179,997,696'}, 'operatingCashflow': {'raw': 110543003648, 'fmt': '110.54B', 'longFmt': '110,543,003,648'}, 'earningsGrowth': {'raw': 0.135, 'fmt': '13.50%'}, 'revenueGrowth': {'raw': -0.007, 'fmt': '-0.70%'}, 'grossMargins': {'raw': 0.44131002, 'fmt': '44.13%'}, 'ebitdaMargins': {'raw': 0.32827, 'fmt': '32.83%'}, 'operatingMargins': {'raw': 0.30134, 'fmt': '30.13%'}, 'profitMargins': {'raw': 0.25305998, 'fmt': '25.31%'}, 'financialCurrency': 'USD'}}], 'error': None}}\n",
      "Stock: Aapl Company: Apple Inc. Price: 192.9611 Gross Profits: 170.78B Target Mean Price 198.01 Total Cash: 61.55B\n",
      "Waiting for 60 seconds...\n",
      "60 seconds have passed. Now executing the code.\n",
      "{'quoteResponse': {'result': [{'language': 'en-US', 'region': 'US', 'quoteType': 'EQUITY', 'triggerable': True, 'quoteSourceName': 'Nasdaq Real Time Price', 'currency': 'USD', 'exchange': 'NMS', 'market': 'us_market', 'fiftyTwoWeekHigh': 198.23, 'dividendDate': 1700092800, 'earningsTimestamp': 1698958800, 'earningsTimestampStart': 1706698740, 'earningsTimestampEnd': 1707134400, 'trailingAnnualDividendRate': 0.94, 'trailingPE': 31.478891, 'trailingAnnualDividendYield': 0.0048598903, 'epsTrailingTwelveMonths': 6.13, 'epsForward': 7.15, 'epsCurrentYear': 6.56, 'priceEpsCurrentYear': 29.41549, 'sharesOutstanding': 15552799744, 'bookValue': 3.997, 'fiftyDayAverage': 180.0912, 'fiftyDayAverageChange': 12.874405, 'fiftyDayAverageChangePercent': 0.071488254, 'twoHundredDayAverage': 175.6501, 'twoHundredDayAverageChange': 17.315506, 'twoHundredDayAverageChangePercent': 0.09857954, 'marketCap': 3001155321856, 'forwardPE': 26.988197, 'priceToBook': 48.27761, 'sourceInterval': 15, 'exchangeTimezoneName': 'America/New_York', 'exchangeTimezoneShortName': 'EST', 'shortName': 'Apple Inc.', 'exchangeDataDelayedBy': 0, 'gmtOffSetMilliseconds': -18000000, 'esgPopulated': False, 'tradeable': False, 'priceHint': 2, 'regularMarketChangePercent': -0.23492476, 'regularMarketDayRange': '192.205 - 194.76', 'regularMarketPreviousClose': 193.42, 'bid': 192.92, 'ask': 192.93, 'bidSize': 13, 'askSize': 8, 'messageBoardId': 'finmb_24937', 'fullExchangeName': 'NasdaqGS', 'longName': 'Apple Inc.', 'financialCurrency': 'USD', 'averageDailyVolume3Month': 57024831, 'averageDailyVolume10Day': 42801760, 'fiftyTwoWeekLowChange': 68.79561, 'fiftyTwoWeekLowChangePercent': 0.5540437, 'fiftyTwoWeekRange': '124.17 - 198.23', 'fiftyTwoWeekHighChange': -5.264389, 'fiftyTwoWeekHighChangePercent': -0.026556974, 'fiftyTwoWeekLow': 124.17, 'regularMarketPrice': 192.9656, 'regularMarketTime': 1701888441, 'regularMarketChange': -0.45439148, 'regularMarketOpen': 194.45, 'regularMarketDayHigh': 194.76, 'regularMarketDayLow': 192.205, 'regularMarketVolume': 22991499, 'marketState': 'REGULAR', 'symbol': 'AAPL'}], 'error': None}}\n",
      "{'quoteSummary': {'result': [{'financialData': {'maxAge': 86400, 'currentPrice': {'raw': 192.9656, 'fmt': '192.97'}, 'targetHighPrice': {'raw': 240.0, 'fmt': '240.00'}, 'targetLowPrice': {'raw': 159.0, 'fmt': '159.00'}, 'targetMeanPrice': {'raw': 198.01, 'fmt': '198.01'}, 'targetMedianPrice': {'raw': 200.0, 'fmt': '200.00'}, 'recommendationMean': {'raw': 2.1, 'fmt': '2.10'}, 'recommendationKey': 'buy', 'numberOfAnalystOpinions': {'raw': 39, 'fmt': '39', 'longFmt': '39'}, 'totalCash': {'raw': 61554999296, 'fmt': '61.55B', 'longFmt': '61,554,999,296'}, 'totalCashPerShare': {'raw': 3.958, 'fmt': '3.96'}, 'ebitda': {'raw': 125820002304, 'fmt': '125.82B', 'longFmt': '125,820,002,304'}, 'totalDebt': {'raw': 123930001408, 'fmt': '123.93B', 'longFmt': '123,930,001,408'}, 'quickRatio': {'raw': 0.843, 'fmt': '0.84'}, 'currentRatio': {'raw': 0.988, 'fmt': '0.99'}, 'totalRevenue': {'raw': 383285002240, 'fmt': '383.29B', 'longFmt': '383,285,002,240'}, 'debtToEquity': {'raw': 199.418, 'fmt': '199.42%'}, 'revenuePerShare': {'raw': 24.344, 'fmt': '24.34'}, 'returnOnAssets': {'raw': 0.20256001, 'fmt': '20.26%'}, 'returnOnEquity': {'raw': 1.7195, 'fmt': '171.95%'}, 'grossProfits': {'raw': 170782000000, 'fmt': '170.78B', 'longFmt': '170,782,000,000'}, 'freeCashflow': {'raw': 82179997696, 'fmt': '82.18B', 'longFmt': '82,179,997,696'}, 'operatingCashflow': {'raw': 110543003648, 'fmt': '110.54B', 'longFmt': '110,543,003,648'}, 'earningsGrowth': {'raw': 0.135, 'fmt': '13.50%'}, 'revenueGrowth': {'raw': -0.007, 'fmt': '-0.70%'}, 'grossMargins': {'raw': 0.44131002, 'fmt': '44.13%'}, 'ebitdaMargins': {'raw': 0.32827, 'fmt': '32.83%'}, 'operatingMargins': {'raw': 0.30134, 'fmt': '30.13%'}, 'profitMargins': {'raw': 0.25305998, 'fmt': '25.31%'}, 'financialCurrency': 'USD'}}], 'error': None}}\n",
      "Stock: Aapl Company: Apple Inc. Price: 192.9656 Gross Profits: 170.78B Target Mean Price 198.01 Total Cash: 61.55B\n",
      "Waiting for 60 seconds...\n"
     ]
    }
   ],
   "source": [
    "import os\n",
    "import json\n",
    "import pprint\n",
    "import requests\n",
    "import requests.exceptions\n",
    "import pandas as pd\n",
    "!pip install asyncio\n",
    "!pip install nest_asyncio\n",
    "import asyncio\n",
    "import nest_asyncio\n",
    "\n",
    "nest_asyncio.apply()  # Apply the patch to allow running asyncio in Jupyter\n",
    "\n",
    "async def wait_60_seconds():\n",
    "    print(\"Waiting for 60 seconds...\")\n",
    "    await asyncio.sleep(60)\n",
    "    print(\"60 seconds have passed. Now executing the code.\")\n",
    "\n",
    "async def retrieve_data(stock):\n",
    "    apikey = \"zDF6DwutU82qPPDf1M7GH2HsoafyDy8q29M7fGNn\"\n",
    "    \n",
    "    # First API Call\n",
    "    url = \"https://yfapi.net/v6/finance/quote\"\n",
    "    querystr = {\"symbols\": stock, \"region\": \"US\", \"lang\": \"en\"}\n",
    "    headers = {'x-api-key': apikey}\n",
    "    response = requests.request(\"GET\", url, headers=headers, params=querystr)\n",
    "    stock_json = response.json()\n",
    "\n",
    "    if (\"quoteResponse\" in stock_json\n",
    "            and \"result\" in stock_json[\"quoteResponse\"]\n",
    "            and stock_json[\"quoteResponse\"][\"result\"][0].get(\"triggerable\") == False\n",
    "    ):\n",
    "        print(\"Error: Stock ticker or information does not exist\")\n",
    "    else:\n",
    "        print(stock_json)\n",
    "\n",
    "    # Second API Call\n",
    "    url2 = \"https://yfapi.net/v11/finance/quoteSummary/\" + stock\n",
    "    querystr2 = {\"region\": \"US\", \"lang\": \"en\", \"modules\": \"financialData\"}\n",
    "    response2 = requests.request(\"GET\", url2, headers=headers, params=querystr2)\n",
    "    stock_json2 = response2.json()\n",
    "\n",
    "    if (\"quoteResponse\" in stock_json2\n",
    "            and \"result\" in stock_json2[\"quoteResponse\"]\n",
    "            and stock_json2[\"quoteResponse\"][\"result\"][0].get(\"triggerable\") == False\n",
    "    ):\n",
    "        print(\"Error: Stock ticker or information does not exist\")\n",
    "    else:\n",
    "        print(stock_json2)\n",
    "\n",
    "    name = str(stock_json[\"quoteResponse\"]['result'][0][\"longName\"])\n",
    "    price = str(stock_json['quoteResponse']['result'][0]['regularMarketPrice'])\n",
    "    grossprofits = str(stock_json2[\"quoteSummary\"]['result'][0]['financialData']['grossProfits']['fmt'])\n",
    "    targetmeanprice = str(stock_json2[\"quoteSummary\"]['result'][0]['financialData']['targetMeanPrice']['fmt'])\n",
    "    totalcash = str(stock_json2[\"quoteSummary\"]['result'][0]['financialData']['totalCash']['fmt'])\n",
    "\n",
    "    print(\"Stock: \" + str(stock) + \" Company: \" + str(name) + \" Price: \" + str(price) +\n",
    "          ' Gross Profits: ' + str(grossprofits) + ' Target Mean Price ' + str(targetmeanprice) +\n",
    "          ' Total Cash: ' + totalcash)\n",
    "\n",
    "async def main():\n",
    "    columns = [\"stock\", \"company\", \"grossprofits\", \"targetmeanprice\", \"totalCash\"]\n",
    "    df = pd.DataFrame(columns=columns)\n",
    "    stock = input(\"Enter stock ticker: \")\n",
    "    print(\"The stock that will be searched is \" + stock)\n",
    "\n",
    "    for _ in range(60):  # Loop 60 times for 60 minutes\n",
    "        await retrieve_data(stock)\n",
    "        await wait_60_seconds()\n",
    "\n",
    "# Run the main execution loop\n",
    "if __name__ == \"__main__\":\n",
    "    asyncio.run(main())\n"
   ]
  },
  {
   "cell_type": "code",
   "execution_count": null,
   "id": "b4d3283e-4855-4cc3-9321-47e4fa11463e",
   "metadata": {},
   "outputs": [],
   "source": []
  }
 ],
 "metadata": {
  "kernelspec": {
   "display_name": "Python 3 (ipykernel)",
   "language": "python",
   "name": "python3"
  },
  "language_info": {
   "codemirror_mode": {
    "name": "ipython",
    "version": 3
   },
   "file_extension": ".py",
   "mimetype": "text/x-python",
   "name": "python",
   "nbconvert_exporter": "python",
   "pygments_lexer": "ipython3",
   "version": "3.8.16"
  }
 },
 "nbformat": 4,
 "nbformat_minor": 5
}
